{
 "cells": [
  {
   "cell_type": "markdown",
   "metadata": {},
   "source": [
    "Predicting which station needs more docks on the basis of the traffic ( to and fro) at the station. This is also by keeping in mind the revenue generated v/s the cost required to build more docks"
   ]
  },
  {
   "cell_type": "code",
   "execution_count": 3,
   "metadata": {},
   "outputs": [],
   "source": [
    "import numpy as np\n",
    "import pandas as pd\n",
    "import matplotlib.pyplot as plt\n",
    "import seaborn as sns\n",
    "import gc, os\n"
   ]
  },
  {
   "cell_type": "markdown",
   "metadata": {},
   "source": [
    "Combine bicycle data with station data and merge all years data"
   ]
  },
  {
   "cell_type": "code",
   "execution_count": 4,
   "metadata": {},
   "outputs": [
    {
     "name": "stderr",
     "output_type": "stream",
     "text": [
      "C:\\ProgramData\\Anaconda3\\lib\\site-packages\\ipykernel_launcher.py:26: FutureWarning: Sorting because non-concatenation axis is not aligned. A future version\n",
      "of pandas will change to not sort by default.\n",
      "\n",
      "To accept the future behavior, pass 'sort=False'.\n",
      "\n",
      "To retain the current behavior and silence the warning, pass 'sort=True'.\n",
      "\n"
     ]
    }
   ],
   "source": [
    "#Training Data\n",
    "trip_2017_q1 = pd.read_csv(\"C:/DPA Project/data/Divvy_Trips_2017_Q1.csv\")\n",
    "trip_2017_q2 = pd.read_csv(\"C:/DPA Project/data/Divvy_Trips_2017_Q2.csv\")\n",
    "trip_2017_q3 = pd.read_csv(\"C:/DPA Project/data/Divvy_Trips_2017_Q3.csv\")\n",
    "trip_2017_q4 = pd.read_csv(\"C:/DPA Project/data/Divvy_Trips_2017_Q4.csv\")\n",
    "\n",
    "merge_2017 = pd.concat([trip_2017_q1, trip_2017_q2, trip_2017_q3, trip_2017_q4],ignore_index= True)\n",
    "merge_2017 = merge_2017.reindex(index=[i for i in range(merge_2017.shape[0])])\n",
    "\n",
    "#trip_2018_q1 = pd.read_csv(\"C:/DPA Project/data/Divvy_Trips_2018_Q1.csv\")\n",
    "trip_2018_q2 = pd.read_csv(\"C:/DPA Project/data/Divvy_Trips_2018_Q2.csv\")\n",
    "trip_2018_q3 = pd.read_csv(\"C:/DPA Project/data/Divvy_Trips_2018_Q3.csv\")\n",
    "trip_2018_q4 = pd.read_csv(\"C:/DPA Project/data/Divvy_Trips_2018_Q4.csv\")\n",
    "\n",
    "merge_2018 = pd.concat([trip_2018_q2, trip_2018_q3, trip_2018_q4],ignore_index= True)\n",
    "merge_2018 = merge_2018.reindex(index=[i for i in range(merge_2018.shape[0])])\n",
    "\n",
    "\n",
    "\n",
    "#Test Data\n",
    "trip_2019_q1 = pd.read_csv(\"C:/DPA Project/data/Divvy_Trips_2019_Q1.csv\")\n",
    "trip_2019_q2 = pd.read_csv(\"C:/DPA Project/data/Divvy_Trips_2019_Q2.csv\")\n",
    "trip_2019_q3 = pd.read_csv(\"C:/DPA Project/data/Divvy_Trips_2019_Q3.csv\")\n",
    "trip_2019_q4 = pd.read_csv(\"C:/DPA Project/data/Divvy_Trips_2019_Q4.csv\")\n",
    "\n",
    "merge_2019 = pd.concat([trip_2019_q1, trip_2019_q2, trip_2019_q3, trip_2019_q4],ignore_index= True)\n",
    "merge_2019 = merge_2019.reindex(index=[i for i in range(merge_2019.shape[0])])\n",
    "merge_2019_orig = merge_2019.reindex(index=[i for i in range(merge_2019.shape[0])])\n",
    "\n",
    "#Total Data pf 2017 & 2018\n",
    "merge_total = pd.concat([merge_2017, merge_2018],ignore_index= True)\n",
    "merge_total = merge_total.reindex(index=[i for i in range(merge_total.shape[0])])\n",
    "merge_total_orig = merge_total.reindex(index=[i for i in range(merge_total.shape[0])])"
   ]
  },
  {
   "cell_type": "code",
   "execution_count": 5,
   "metadata": {},
   "outputs": [],
   "source": [
    "station_data = pd.read_csv(\"C:/DPA Project/data/Divvy_Bicycle_Stations.csv\")"
   ]
  },
  {
   "cell_type": "code",
   "execution_count": 6,
   "metadata": {},
   "outputs": [],
   "source": [
    "#Merging Total Docks, To Latitude & To Longitude Data in Test Dataframe\n",
    "merge_2019['total_docks'] =  merge_2019['from_station_id'].map(station_data.set_index('ID')['Total Docks'])\n",
    "merge_2019['to_latitude'] = merge_2019['to_station_id'].map(station_data.set_index('ID')['Latitude'])\n",
    "merge_2019['to_longitude'] = merge_2019['to_station_id'].map(station_data.set_index('ID')['Longitude'])\n",
    "merge_2019['from_latitude'] = merge_2019['from_station_id'].map(station_data.set_index('ID')['Latitude'])\n",
    "merge_2019['from_longitude'] = merge_2019['from_station_id'].map(station_data.set_index('ID')['Longitude'])\n",
    "\n",
    "#Merging Total Docks, To Latitude & To Longitude Data in Training Dataframe\n",
    "merge_total['total_docks'] =  merge_total['from_station_id'].map(station_data.set_index('ID')['Total Docks'])\n",
    "merge_total['to_latitude'] = merge_total['to_station_id'].map(station_data.set_index('ID')['Latitude'])\n",
    "merge_total['to_longitude'] = merge_total['to_station_id'].map(station_data.set_index('ID')['Longitude'])\n",
    "merge_total['from_latitude'] = merge_total['from_station_id'].map(station_data.set_index('ID')['Latitude'])\n",
    "merge_total['from_longitude'] = merge_total['from_station_id'].map(station_data.set_index('ID')['Longitude'])\n",
    "\n"
   ]
  },
  {
   "cell_type": "code",
   "execution_count": 7,
   "metadata": {},
   "outputs": [],
   "source": [
    "##Calculating Distnace between origin and destination using lat long\n",
    "\n",
    "from pyproj import Geod\n",
    "\n",
    "wgs84_geod = Geod(ellps='WGS84') #Distance will be measured on this ellipsoid - more accurate than a spherical method\n",
    "\n",
    "#Get distance between pairs of lat-lon points\n",
    "def Distance(lat1,lon1,lat2,lon2):\n",
    "  az12,az21,dist = wgs84_geod.inv(lon1,lat1,lon2,lat2) #Yes, this order is correct\n",
    "  return dist\n",
    "merge_total['dist_mts'] = Distance(merge_total['to_latitude'].tolist(),merge_total['to_longitude'].tolist(),merge_total['from_latitude'].tolist(),merge_total['from_longitude'].tolist())\n",
    "\n",
    "merge_2019['dist_mts'] = Distance(merge_2019['to_latitude'].tolist(),merge_2019['to_longitude'].tolist(),merge_2019['from_latitude'].tolist(),merge_2019['from_longitude'].tolist())"
   ]
  },
  {
   "cell_type": "code",
   "execution_count": 8,
   "metadata": {},
   "outputs": [
    {
     "data": {
      "text/html": [
       "<div>\n",
       "<style scoped>\n",
       "    .dataframe tbody tr th:only-of-type {\n",
       "        vertical-align: middle;\n",
       "    }\n",
       "\n",
       "    .dataframe tbody tr th {\n",
       "        vertical-align: top;\n",
       "    }\n",
       "\n",
       "    .dataframe thead th {\n",
       "        text-align: right;\n",
       "    }\n",
       "</style>\n",
       "<table border=\"1\" class=\"dataframe\">\n",
       "  <thead>\n",
       "    <tr style=\"text-align: right;\">\n",
       "      <th></th>\n",
       "      <th>trip_id</th>\n",
       "      <th>start_time</th>\n",
       "      <th>end_time</th>\n",
       "      <th>bikeid</th>\n",
       "      <th>tripduration</th>\n",
       "      <th>from_station_id</th>\n",
       "      <th>from_station_name</th>\n",
       "      <th>to_station_id</th>\n",
       "      <th>to_station_name</th>\n",
       "      <th>usertype</th>\n",
       "      <th>gender</th>\n",
       "      <th>birthyear</th>\n",
       "      <th>total_docks</th>\n",
       "      <th>to_latitude</th>\n",
       "      <th>to_longitude</th>\n",
       "      <th>from_latitude</th>\n",
       "      <th>from_longitude</th>\n",
       "      <th>dist_mts</th>\n",
       "    </tr>\n",
       "  </thead>\n",
       "  <tbody>\n",
       "    <tr>\n",
       "      <td>0</td>\n",
       "      <td>13518905</td>\n",
       "      <td>3/31/2017 23:59:07</td>\n",
       "      <td>4/1/2017 00:13:24</td>\n",
       "      <td>5292</td>\n",
       "      <td>857</td>\n",
       "      <td>66</td>\n",
       "      <td>Clinton St &amp; Lake St</td>\n",
       "      <td>171</td>\n",
       "      <td>May St &amp; Cullerton St</td>\n",
       "      <td>Subscriber</td>\n",
       "      <td>Male</td>\n",
       "      <td>1989.0</td>\n",
       "      <td>23.0</td>\n",
       "      <td>41.855136</td>\n",
       "      <td>-87.654127</td>\n",
       "      <td>41.885637</td>\n",
       "      <td>-87.641823</td>\n",
       "      <td>3538.412951</td>\n",
       "    </tr>\n",
       "    <tr>\n",
       "      <td>1</td>\n",
       "      <td>13518904</td>\n",
       "      <td>3/31/2017 23:56:25</td>\n",
       "      <td>4/1/2017 00:00:21</td>\n",
       "      <td>4408</td>\n",
       "      <td>236</td>\n",
       "      <td>199</td>\n",
       "      <td>Wabash Ave &amp; Grand Ave</td>\n",
       "      <td>26</td>\n",
       "      <td>McClurg Ct &amp; Illinois St</td>\n",
       "      <td>Subscriber</td>\n",
       "      <td>Male</td>\n",
       "      <td>1990.0</td>\n",
       "      <td>31.0</td>\n",
       "      <td>41.890359</td>\n",
       "      <td>-87.617532</td>\n",
       "      <td>41.891466</td>\n",
       "      <td>-87.626761</td>\n",
       "      <td>775.740536</td>\n",
       "    </tr>\n",
       "    <tr>\n",
       "      <td>2</td>\n",
       "      <td>13518903</td>\n",
       "      <td>3/31/2017 23:55:33</td>\n",
       "      <td>4/1/2017 00:01:21</td>\n",
       "      <td>696</td>\n",
       "      <td>348</td>\n",
       "      <td>520</td>\n",
       "      <td>Greenview Ave &amp; Jarvis Ave</td>\n",
       "      <td>432</td>\n",
       "      <td>Clark St &amp; Lunt Ave</td>\n",
       "      <td>Subscriber</td>\n",
       "      <td>Female</td>\n",
       "      <td>1979.0</td>\n",
       "      <td>19.0</td>\n",
       "      <td>42.009074</td>\n",
       "      <td>-87.674190</td>\n",
       "      <td>42.015962</td>\n",
       "      <td>-87.668570</td>\n",
       "      <td>895.576411</td>\n",
       "    </tr>\n",
       "    <tr>\n",
       "      <td>3</td>\n",
       "      <td>13518902</td>\n",
       "      <td>3/31/2017 23:54:46</td>\n",
       "      <td>3/31/2017 23:59:34</td>\n",
       "      <td>4915</td>\n",
       "      <td>288</td>\n",
       "      <td>110</td>\n",
       "      <td>Dearborn St &amp; Erie St</td>\n",
       "      <td>142</td>\n",
       "      <td>McClurg Ct &amp; Erie St</td>\n",
       "      <td>Subscriber</td>\n",
       "      <td>Male</td>\n",
       "      <td>1985.0</td>\n",
       "      <td>27.0</td>\n",
       "      <td>41.894503</td>\n",
       "      <td>-87.617854</td>\n",
       "      <td>41.893992</td>\n",
       "      <td>-87.629318</td>\n",
       "      <td>953.063652</td>\n",
       "    </tr>\n",
       "    <tr>\n",
       "      <td>4</td>\n",
       "      <td>13518901</td>\n",
       "      <td>3/31/2017 23:53:33</td>\n",
       "      <td>4/1/2017 00:00:28</td>\n",
       "      <td>4247</td>\n",
       "      <td>415</td>\n",
       "      <td>327</td>\n",
       "      <td>Sheffield Ave &amp; Webster Ave</td>\n",
       "      <td>331</td>\n",
       "      <td>Halsted St &amp; Blackhawk St (*)</td>\n",
       "      <td>Subscriber</td>\n",
       "      <td>Female</td>\n",
       "      <td>1989.0</td>\n",
       "      <td>19.0</td>\n",
       "      <td>41.909668</td>\n",
       "      <td>-87.648128</td>\n",
       "      <td>41.921540</td>\n",
       "      <td>-87.653818</td>\n",
       "      <td>1400.586679</td>\n",
       "    </tr>\n",
       "  </tbody>\n",
       "</table>\n",
       "</div>"
      ],
      "text/plain": [
       "    trip_id          start_time            end_time  bikeid tripduration  \\\n",
       "0  13518905  3/31/2017 23:59:07   4/1/2017 00:13:24    5292          857   \n",
       "1  13518904  3/31/2017 23:56:25   4/1/2017 00:00:21    4408          236   \n",
       "2  13518903  3/31/2017 23:55:33   4/1/2017 00:01:21     696          348   \n",
       "3  13518902  3/31/2017 23:54:46  3/31/2017 23:59:34    4915          288   \n",
       "4  13518901  3/31/2017 23:53:33   4/1/2017 00:00:28    4247          415   \n",
       "\n",
       "   from_station_id            from_station_name  to_station_id  \\\n",
       "0               66         Clinton St & Lake St            171   \n",
       "1              199       Wabash Ave & Grand Ave             26   \n",
       "2              520   Greenview Ave & Jarvis Ave            432   \n",
       "3              110        Dearborn St & Erie St            142   \n",
       "4              327  Sheffield Ave & Webster Ave            331   \n",
       "\n",
       "                 to_station_name    usertype  gender  birthyear  total_docks  \\\n",
       "0          May St & Cullerton St  Subscriber    Male     1989.0         23.0   \n",
       "1       McClurg Ct & Illinois St  Subscriber    Male     1990.0         31.0   \n",
       "2            Clark St & Lunt Ave  Subscriber  Female     1979.0         19.0   \n",
       "3           McClurg Ct & Erie St  Subscriber    Male     1985.0         27.0   \n",
       "4  Halsted St & Blackhawk St (*)  Subscriber  Female     1989.0         19.0   \n",
       "\n",
       "   to_latitude  to_longitude  from_latitude  from_longitude     dist_mts  \n",
       "0    41.855136    -87.654127      41.885637      -87.641823  3538.412951  \n",
       "1    41.890359    -87.617532      41.891466      -87.626761   775.740536  \n",
       "2    42.009074    -87.674190      42.015962      -87.668570   895.576411  \n",
       "3    41.894503    -87.617854      41.893992      -87.629318   953.063652  \n",
       "4    41.909668    -87.648128      41.921540      -87.653818  1400.586679  "
      ]
     },
     "execution_count": 8,
     "metadata": {},
     "output_type": "execute_result"
    }
   ],
   "source": [
    "merge_total.head()"
   ]
  },
  {
   "cell_type": "code",
   "execution_count": 9,
   "metadata": {},
   "outputs": [
    {
     "data": {
      "text/plain": [
       "(7044951, 18)"
      ]
     },
     "execution_count": 9,
     "metadata": {},
     "output_type": "execute_result"
    }
   ],
   "source": [
    "merge_total.shape"
   ]
  },
  {
   "cell_type": "code",
   "execution_count": 10,
   "metadata": {},
   "outputs": [
    {
     "name": "stdout",
     "output_type": "stream",
     "text": [
      "<class 'pandas.core.frame.DataFrame'>\n",
      "Int64Index: 7044951 entries, 0 to 7044950\n",
      "Data columns (total 18 columns):\n",
      "trip_id              int64\n",
      "start_time           object\n",
      "end_time             object\n",
      "bikeid               int64\n",
      "tripduration         object\n",
      "from_station_id      int64\n",
      "from_station_name    object\n",
      "to_station_id        int64\n",
      "to_station_name      object\n",
      "usertype             object\n",
      "gender               object\n",
      "birthyear            float64\n",
      "total_docks          float64\n",
      "to_latitude          float64\n",
      "to_longitude         float64\n",
      "from_latitude        float64\n",
      "from_longitude       float64\n",
      "dist_mts             float64\n",
      "dtypes: float64(7), int64(4), object(7)\n",
      "memory usage: 1021.2+ MB\n"
     ]
    }
   ],
   "source": [
    "merge_total.info()"
   ]
  },
  {
   "cell_type": "markdown",
   "metadata": {},
   "source": [
    "Data Cleaning Task\n",
    "\n",
    "Exclude trip duration that is less than 2 minutes\n",
    "Exclude trip with missing latitude_start, longitude_start, dpcapacity_start, latitude_end, longitude_end, dpcapacity_end\n",
    "Exclude trip without gender information\n",
    "Extract year, month, and day information"
   ]
  },
  {
   "cell_type": "code",
   "execution_count": 12,
   "metadata": {},
   "outputs": [],
   "source": [
    "# Function to calculate missing values by column\n",
    "def missing_values_table(df):\n",
    "        # Total missing values\n",
    "        mis_val = df.isnull().sum()\n",
    "        \n",
    "        # Percentage of missing values\n",
    "        mis_val_percent = 100 * df.isnull().sum() / len(df)\n",
    "        \n",
    "        # Make a table with the results\n",
    "        mis_val_table = pd.concat([mis_val, mis_val_percent], axis=1)\n",
    "        \n",
    "        # Rename the columns\n",
    "        mis_val_table_ren_columns = mis_val_table.rename(\n",
    "        columns = {0 : 'Missing Values', 1 : '% of Total Values'})\n",
    "        \n",
    "        # Sort the table by percentage of missing descending\n",
    "        mis_val_table_ren_columns = mis_val_table_ren_columns[\n",
    "            mis_val_table_ren_columns.iloc[:,1] != 0].sort_values(\n",
    "        '% of Total Values', ascending=False).round(4)\n",
    "        \n",
    "        # Print some summary information\n",
    "        print (\"Your selected dataframe has \" + str(df.shape[1]) + \" columns.\\n\"      \n",
    "            \"There are \" + str(mis_val_table_ren_columns.shape[0]) +\n",
    "              \" columns that have missing values.\")\n",
    "        \n",
    "        # Return the dataframe with missing information\n",
    "        return mis_val_table_ren_columns"
   ]
  },
  {
   "cell_type": "code",
   "execution_count": 13,
   "metadata": {},
   "outputs": [
    {
     "name": "stdout",
     "output_type": "stream",
     "text": [
      "Your selected dataframe has 18 columns.\n",
      "There are 8 columns that have missing values.\n"
     ]
    },
    {
     "data": {
      "text/html": [
       "<div>\n",
       "<style scoped>\n",
       "    .dataframe tbody tr th:only-of-type {\n",
       "        vertical-align: middle;\n",
       "    }\n",
       "\n",
       "    .dataframe tbody tr th {\n",
       "        vertical-align: top;\n",
       "    }\n",
       "\n",
       "    .dataframe thead th {\n",
       "        text-align: right;\n",
       "    }\n",
       "</style>\n",
       "<table border=\"1\" class=\"dataframe\">\n",
       "  <thead>\n",
       "    <tr style=\"text-align: right;\">\n",
       "      <th></th>\n",
       "      <th>Missing Values</th>\n",
       "      <th>% of Total Values</th>\n",
       "    </tr>\n",
       "  </thead>\n",
       "  <tbody>\n",
       "    <tr>\n",
       "      <td>gender</td>\n",
       "      <td>1376839</td>\n",
       "      <td>19.5436</td>\n",
       "    </tr>\n",
       "    <tr>\n",
       "      <td>birthyear</td>\n",
       "      <td>1369645</td>\n",
       "      <td>19.4415</td>\n",
       "    </tr>\n",
       "    <tr>\n",
       "      <td>dist_mts</td>\n",
       "      <td>6903</td>\n",
       "      <td>0.0980</td>\n",
       "    </tr>\n",
       "    <tr>\n",
       "      <td>to_latitude</td>\n",
       "      <td>5970</td>\n",
       "      <td>0.0847</td>\n",
       "    </tr>\n",
       "    <tr>\n",
       "      <td>to_longitude</td>\n",
       "      <td>5970</td>\n",
       "      <td>0.0847</td>\n",
       "    </tr>\n",
       "    <tr>\n",
       "      <td>total_docks</td>\n",
       "      <td>5828</td>\n",
       "      <td>0.0827</td>\n",
       "    </tr>\n",
       "    <tr>\n",
       "      <td>from_latitude</td>\n",
       "      <td>5828</td>\n",
       "      <td>0.0827</td>\n",
       "    </tr>\n",
       "    <tr>\n",
       "      <td>from_longitude</td>\n",
       "      <td>5828</td>\n",
       "      <td>0.0827</td>\n",
       "    </tr>\n",
       "  </tbody>\n",
       "</table>\n",
       "</div>"
      ],
      "text/plain": [
       "                Missing Values  % of Total Values\n",
       "gender                 1376839            19.5436\n",
       "birthyear              1369645            19.4415\n",
       "dist_mts                  6903             0.0980\n",
       "to_latitude               5970             0.0847\n",
       "to_longitude              5970             0.0847\n",
       "total_docks               5828             0.0827\n",
       "from_latitude             5828             0.0827\n",
       "from_longitude            5828             0.0827"
      ]
     },
     "execution_count": 13,
     "metadata": {},
     "output_type": "execute_result"
    }
   ],
   "source": [
    "missing_values_table(merge_total)"
   ]
  },
  {
   "cell_type": "code",
   "execution_count": 14,
   "metadata": {},
   "outputs": [],
   "source": [
    "#Removing records with null values in distance column\n",
    "null_index_list=merge_total[merge_total['dist_mts'].isnull()].index.tolist()\n",
    "merge_total=merge_total.drop(index=null_index_list)"
   ]
  },
  {
   "cell_type": "code",
   "execution_count": 16,
   "metadata": {},
   "outputs": [],
   "source": [
    "#Correcting the data type of tripduration field\n",
    "merge_total['tripduration'] = merge_total['tripduration'].str.replace(',', '')\n",
    "merge_total['tripduration'] = merge_total['tripduration'].astype(float)"
   ]
  },
  {
   "cell_type": "code",
   "execution_count": 17,
   "metadata": {},
   "outputs": [],
   "source": [
    "##Adding revenue column basis tripduration charging $3/ 30 minutes ride\n",
    "\n",
    "merge_total['revenue'] = (merge_total['tripduration']/1800) * 3"
   ]
  },
  {
   "cell_type": "code",
   "execution_count": 18,
   "metadata": {},
   "outputs": [
    {
     "data": {
      "text/plain": [
       "count    3.214965e+06\n",
       "mean     1.380461e+03\n",
       "std      2.764318e+04\n",
       "min      6.100000e+01\n",
       "25%      4.070000e+02\n",
       "50%      6.990000e+02\n",
       "75%      1.260000e+03\n",
       "max      1.163500e+07\n",
       "Name: tripduration, dtype: float64"
      ]
     },
     "execution_count": 18,
     "metadata": {},
     "output_type": "execute_result"
    }
   ],
   "source": [
    "merge_total['tripduration'].describe()"
   ]
  },
  {
   "cell_type": "code",
   "execution_count": 19,
   "metadata": {},
   "outputs": [],
   "source": [
    "#Removing trips which are less than 2 minutes & greater than 5 hours\n",
    "merge_total = merge_total[(merge_total['tripduration'] >= 120) & (merge_total['tripduration'] <= 18000)]"
   ]
  },
  {
   "cell_type": "code",
   "execution_count": 20,
   "metadata": {},
   "outputs": [
    {
     "data": {
      "text/plain": [
       "count    3.186703e+06\n",
       "mean     2.145571e+03\n",
       "std      1.820019e+03\n",
       "min      0.000000e+00\n",
       "25%      9.541961e+02\n",
       "50%      1.591951e+03\n",
       "75%      2.781165e+03\n",
       "max      3.677409e+04\n",
       "Name: dist_mts, dtype: float64"
      ]
     },
     "execution_count": 20,
     "metadata": {},
     "output_type": "execute_result"
    }
   ],
   "source": [
    "merge_total['dist_mts'].describe()"
   ]
  },
  {
   "cell_type": "code",
   "execution_count": 21,
   "metadata": {},
   "outputs": [
    {
     "data": {
      "text/plain": [
       "0.000000        117473\n",
       "1316.447783       9921\n",
       "1368.170409       7254\n",
       "4085.493819       6481\n",
       "1599.734309       6425\n",
       "                 ...  \n",
       "8921.565497          1\n",
       "7953.193298          1\n",
       "14859.088383         1\n",
       "4667.338835          1\n",
       "10946.523592         1\n",
       "Name: dist_mts, Length: 65292, dtype: int64"
      ]
     },
     "execution_count": 21,
     "metadata": {},
     "output_type": "execute_result"
    }
   ],
   "source": [
    "merge_total['dist_mts'].value_counts()"
   ]
  },
  {
   "cell_type": "code",
   "execution_count": 22,
   "metadata": {},
   "outputs": [
    {
     "data": {
      "image/png": "[encoded data removed]",
      "text/plain": [
       "<Figure size 432x288 with 1 Axes>"
      ]
     },
     "metadata": {
      "needs_background": "light"
     },
     "output_type": "display_data"
    }
   ],
   "source": [
    "plt.boxplot(merge_total['dist_mts'])\n",
    "plt.show()"
   ]
  },
  {
   "cell_type": "code",
   "execution_count": 23,
   "metadata": {},
   "outputs": [
    {
     "data": {
      "image/png": "[encoded data removed]",
      "text/plain": [
       "<Figure size 432x288 with 1 Axes>"
      ]
     },
     "metadata": {
      "needs_background": "light"
     },
     "output_type": "display_data"
    }
   ],
   "source": [
    "plt.boxplot(merge_total['tripduration'])\n",
    "plt.show()"
   ]
  },
  {
   "cell_type": "code",
   "execution_count": 24,
   "metadata": {
    "scrolled": false
   },
   "outputs": [
    {
     "data": {
      "text/html": [
       "<div>\n",
       "<style scoped>\n",
       "    .dataframe tbody tr th:only-of-type {\n",
       "        vertical-align: middle;\n",
       "    }\n",
       "\n",
       "    .dataframe tbody tr th {\n",
       "        vertical-align: top;\n",
       "    }\n",
       "\n",
       "    .dataframe thead th {\n",
       "        text-align: right;\n",
       "    }\n",
       "</style>\n",
       "<table border=\"1\" class=\"dataframe\">\n",
       "  <thead>\n",
       "    <tr style=\"text-align: right;\">\n",
       "      <th></th>\n",
       "      <th>trip_id</th>\n",
       "      <th>start_time</th>\n",
       "      <th>end_time</th>\n",
       "      <th>bikeid</th>\n",
       "      <th>tripduration</th>\n",
       "      <th>from_station_id</th>\n",
       "      <th>from_station_name</th>\n",
       "      <th>to_station_id</th>\n",
       "      <th>to_station_name</th>\n",
       "      <th>usertype</th>\n",
       "      <th>gender</th>\n",
       "      <th>birthyear</th>\n",
       "      <th>total_docks</th>\n",
       "      <th>to_latitude</th>\n",
       "      <th>to_longitude</th>\n",
       "      <th>from_latitude</th>\n",
       "      <th>from_longitude</th>\n",
       "      <th>dist_mts</th>\n",
       "      <th>revenue</th>\n",
       "    </tr>\n",
       "  </thead>\n",
       "  <tbody>\n",
       "    <tr>\n",
       "      <td>3829360</td>\n",
       "      <td>18001094</td>\n",
       "      <td>2018-04-01 10:06:16</td>\n",
       "      <td>2018-04-01 11:27:50</td>\n",
       "      <td>2647</td>\n",
       "      <td>4894.0</td>\n",
       "      <td>99</td>\n",
       "      <td>Lake Shore Dr &amp; Ohio St</td>\n",
       "      <td>459</td>\n",
       "      <td>Lakefront Trail &amp; Bryn Mawr Ave</td>\n",
       "      <td>Customer</td>\n",
       "      <td>NaN</td>\n",
       "      <td>NaN</td>\n",
       "      <td>19.0</td>\n",
       "      <td>41.984037</td>\n",
       "      <td>-87.652310</td>\n",
       "      <td>41.892570</td>\n",
       "      <td>-87.614492</td>\n",
       "      <td>10632.487864</td>\n",
       "      <td>8.156667</td>\n",
       "    </tr>\n",
       "    <tr>\n",
       "      <td>3829362</td>\n",
       "      <td>18001099</td>\n",
       "      <td>2018-04-01 10:06:37</td>\n",
       "      <td>2018-04-01 11:15:51</td>\n",
       "      <td>2037</td>\n",
       "      <td>4154.0</td>\n",
       "      <td>99</td>\n",
       "      <td>Lake Shore Dr &amp; Ohio St</td>\n",
       "      <td>459</td>\n",
       "      <td>Lakefront Trail &amp; Bryn Mawr Ave</td>\n",
       "      <td>Customer</td>\n",
       "      <td>NaN</td>\n",
       "      <td>NaN</td>\n",
       "      <td>19.0</td>\n",
       "      <td>41.984037</td>\n",
       "      <td>-87.652310</td>\n",
       "      <td>41.892570</td>\n",
       "      <td>-87.614492</td>\n",
       "      <td>10632.487864</td>\n",
       "      <td>6.923333</td>\n",
       "    </tr>\n",
       "    <tr>\n",
       "      <td>3829557</td>\n",
       "      <td>18001395</td>\n",
       "      <td>2018-04-01 11:05:14</td>\n",
       "      <td>2018-04-01 12:34:24</td>\n",
       "      <td>377</td>\n",
       "      <td>5350.0</td>\n",
       "      <td>176</td>\n",
       "      <td>Clark St &amp; Elm St</td>\n",
       "      <td>597</td>\n",
       "      <td>Chicago Ave &amp; Washington St</td>\n",
       "      <td>Customer</td>\n",
       "      <td>NaN</td>\n",
       "      <td>NaN</td>\n",
       "      <td>39.0</td>\n",
       "      <td>42.032562</td>\n",
       "      <td>-87.679101</td>\n",
       "      <td>41.902973</td>\n",
       "      <td>-87.631280</td>\n",
       "      <td>14929.656305</td>\n",
       "      <td>8.916667</td>\n",
       "    </tr>\n",
       "    <tr>\n",
       "      <td>3829559</td>\n",
       "      <td>18001400</td>\n",
       "      <td>2018-04-01 11:05:41</td>\n",
       "      <td>2018-04-01 12:34:24</td>\n",
       "      <td>3497</td>\n",
       "      <td>5323.0</td>\n",
       "      <td>176</td>\n",
       "      <td>Clark St &amp; Elm St</td>\n",
       "      <td>597</td>\n",
       "      <td>Chicago Ave &amp; Washington St</td>\n",
       "      <td>Customer</td>\n",
       "      <td>NaN</td>\n",
       "      <td>NaN</td>\n",
       "      <td>39.0</td>\n",
       "      <td>42.032562</td>\n",
       "      <td>-87.679101</td>\n",
       "      <td>41.902973</td>\n",
       "      <td>-87.631280</td>\n",
       "      <td>14929.656305</td>\n",
       "      <td>8.871667</td>\n",
       "    </tr>\n",
       "    <tr>\n",
       "      <td>3829618</td>\n",
       "      <td>18001485</td>\n",
       "      <td>2018-04-01 11:28:45</td>\n",
       "      <td>2018-04-01 12:23:19</td>\n",
       "      <td>2331</td>\n",
       "      <td>3274.0</td>\n",
       "      <td>459</td>\n",
       "      <td>Lakefront Trail &amp; Bryn Mawr Ave</td>\n",
       "      <td>35</td>\n",
       "      <td>Streeter Dr &amp; Grand Ave</td>\n",
       "      <td>Customer</td>\n",
       "      <td>NaN</td>\n",
       "      <td>NaN</td>\n",
       "      <td>19.0</td>\n",
       "      <td>41.892278</td>\n",
       "      <td>-87.612043</td>\n",
       "      <td>41.984037</td>\n",
       "      <td>-87.652310</td>\n",
       "      <td>10724.975426</td>\n",
       "      <td>5.456667</td>\n",
       "    </tr>\n",
       "    <tr>\n",
       "      <td>...</td>\n",
       "      <td>...</td>\n",
       "      <td>...</td>\n",
       "      <td>...</td>\n",
       "      <td>...</td>\n",
       "      <td>...</td>\n",
       "      <td>...</td>\n",
       "      <td>...</td>\n",
       "      <td>...</td>\n",
       "      <td>...</td>\n",
       "      <td>...</td>\n",
       "      <td>...</td>\n",
       "      <td>...</td>\n",
       "      <td>...</td>\n",
       "      <td>...</td>\n",
       "      <td>...</td>\n",
       "      <td>...</td>\n",
       "      <td>...</td>\n",
       "      <td>...</td>\n",
       "      <td>...</td>\n",
       "    </tr>\n",
       "    <tr>\n",
       "      <td>7043076</td>\n",
       "      <td>21740058</td>\n",
       "      <td>2018-12-30 15:00:34</td>\n",
       "      <td>2018-12-30 16:33:47</td>\n",
       "      <td>1477</td>\n",
       "      <td>5593.0</td>\n",
       "      <td>247</td>\n",
       "      <td>Shore Dr &amp; 55th St</td>\n",
       "      <td>85</td>\n",
       "      <td>Michigan Ave &amp; Oak St</td>\n",
       "      <td>Customer</td>\n",
       "      <td>Female</td>\n",
       "      <td>1984.0</td>\n",
       "      <td>19.0</td>\n",
       "      <td>41.900960</td>\n",
       "      <td>-87.623777</td>\n",
       "      <td>41.795212</td>\n",
       "      <td>-87.580715</td>\n",
       "      <td>12277.862612</td>\n",
       "      <td>9.321667</td>\n",
       "    </tr>\n",
       "    <tr>\n",
       "      <td>7043158</td>\n",
       "      <td>21740158</td>\n",
       "      <td>2018-12-30 15:28:07</td>\n",
       "      <td>2018-12-30 16:12:00</td>\n",
       "      <td>764</td>\n",
       "      <td>2633.0</td>\n",
       "      <td>246</td>\n",
       "      <td>Ashland Ave &amp; Belle Plaine Ave</td>\n",
       "      <td>596</td>\n",
       "      <td>Benson Ave &amp; Church St</td>\n",
       "      <td>Subscriber</td>\n",
       "      <td>Male</td>\n",
       "      <td>1981.0</td>\n",
       "      <td>11.0</td>\n",
       "      <td>42.048214</td>\n",
       "      <td>-87.683485</td>\n",
       "      <td>41.956057</td>\n",
       "      <td>-87.668835</td>\n",
       "      <td>10307.889895</td>\n",
       "      <td>4.388333</td>\n",
       "    </tr>\n",
       "    <tr>\n",
       "      <td>7043941</td>\n",
       "      <td>21741093</td>\n",
       "      <td>2018-12-31 07:33:45</td>\n",
       "      <td>2018-12-31 08:07:18</td>\n",
       "      <td>1562</td>\n",
       "      <td>2013.0</td>\n",
       "      <td>472</td>\n",
       "      <td>Lincoln Ave &amp; Winona St</td>\n",
       "      <td>66</td>\n",
       "      <td>Clinton St &amp; Lake St</td>\n",
       "      <td>Subscriber</td>\n",
       "      <td>Male</td>\n",
       "      <td>1971.0</td>\n",
       "      <td>15.0</td>\n",
       "      <td>41.885637</td>\n",
       "      <td>-87.641823</td>\n",
       "      <td>41.974911</td>\n",
       "      <td>-87.692503</td>\n",
       "      <td>10770.013009</td>\n",
       "      <td>3.355000</td>\n",
       "    </tr>\n",
       "    <tr>\n",
       "      <td>7044343</td>\n",
       "      <td>21741691</td>\n",
       "      <td>2018-12-31 14:25:45</td>\n",
       "      <td>2018-12-31 15:19:35</td>\n",
       "      <td>3304</td>\n",
       "      <td>3230.0</td>\n",
       "      <td>294</td>\n",
       "      <td>Broadway &amp; Berwyn Ave</td>\n",
       "      <td>49</td>\n",
       "      <td>Dearborn St &amp; Monroe St</td>\n",
       "      <td>Subscriber</td>\n",
       "      <td>Male</td>\n",
       "      <td>1946.0</td>\n",
       "      <td>15.0</td>\n",
       "      <td>41.881320</td>\n",
       "      <td>-87.629521</td>\n",
       "      <td>41.978353</td>\n",
       "      <td>-87.659753</td>\n",
       "      <td>11065.512124</td>\n",
       "      <td>5.383333</td>\n",
       "    </tr>\n",
       "    <tr>\n",
       "      <td>7044746</td>\n",
       "      <td>21742178</td>\n",
       "      <td>2018-12-31 17:52:54</td>\n",
       "      <td>2018-12-31 18:33:04</td>\n",
       "      <td>2443</td>\n",
       "      <td>2410.0</td>\n",
       "      <td>66</td>\n",
       "      <td>Clinton St &amp; Lake St</td>\n",
       "      <td>472</td>\n",
       "      <td>Lincoln Ave &amp; Winona St</td>\n",
       "      <td>Subscriber</td>\n",
       "      <td>Male</td>\n",
       "      <td>1971.0</td>\n",
       "      <td>23.0</td>\n",
       "      <td>41.974911</td>\n",
       "      <td>-87.692503</td>\n",
       "      <td>41.885637</td>\n",
       "      <td>-87.641823</td>\n",
       "      <td>10770.013009</td>\n",
       "      <td>4.016667</td>\n",
       "    </tr>\n",
       "  </tbody>\n",
       "</table>\n",
       "<p>16661 rows × 19 columns</p>\n",
       "</div>"
      ],
      "text/plain": [
       "          trip_id           start_time             end_time  bikeid  \\\n",
       "3829360  18001094  2018-04-01 10:06:16  2018-04-01 11:27:50    2647   \n",
       "3829362  18001099  2018-04-01 10:06:37  2018-04-01 11:15:51    2037   \n",
       "3829557  18001395  2018-04-01 11:05:14  2018-04-01 12:34:24     377   \n",
       "3829559  18001400  2018-04-01 11:05:41  2018-04-01 12:34:24    3497   \n",
       "3829618  18001485  2018-04-01 11:28:45  2018-04-01 12:23:19    2331   \n",
       "...           ...                  ...                  ...     ...   \n",
       "7043076  21740058  2018-12-30 15:00:34  2018-12-30 16:33:47    1477   \n",
       "7043158  21740158  2018-12-30 15:28:07  2018-12-30 16:12:00     764   \n",
       "7043941  21741093  2018-12-31 07:33:45  2018-12-31 08:07:18    1562   \n",
       "7044343  21741691  2018-12-31 14:25:45  2018-12-31 15:19:35    3304   \n",
       "7044746  21742178  2018-12-31 17:52:54  2018-12-31 18:33:04    2443   \n",
       "\n",
       "         tripduration  from_station_id                from_station_name  \\\n",
       "3829360        4894.0               99          Lake Shore Dr & Ohio St   \n",
       "3829362        4154.0               99          Lake Shore Dr & Ohio St   \n",
       "3829557        5350.0              176                Clark St & Elm St   \n",
       "3829559        5323.0              176                Clark St & Elm St   \n",
       "3829618        3274.0              459  Lakefront Trail & Bryn Mawr Ave   \n",
       "...               ...              ...                              ...   \n",
       "7043076        5593.0              247               Shore Dr & 55th St   \n",
       "7043158        2633.0              246   Ashland Ave & Belle Plaine Ave   \n",
       "7043941        2013.0              472          Lincoln Ave & Winona St   \n",
       "7044343        3230.0              294            Broadway & Berwyn Ave   \n",
       "7044746        2410.0               66             Clinton St & Lake St   \n",
       "\n",
       "         to_station_id                  to_station_name    usertype  gender  \\\n",
       "3829360            459  Lakefront Trail & Bryn Mawr Ave    Customer     NaN   \n",
       "3829362            459  Lakefront Trail & Bryn Mawr Ave    Customer     NaN   \n",
       "3829557            597      Chicago Ave & Washington St    Customer     NaN   \n",
       "3829559            597      Chicago Ave & Washington St    Customer     NaN   \n",
       "3829618             35          Streeter Dr & Grand Ave    Customer     NaN   \n",
       "...                ...                              ...         ...     ...   \n",
       "7043076             85            Michigan Ave & Oak St    Customer  Female   \n",
       "7043158            596           Benson Ave & Church St  Subscriber    Male   \n",
       "7043941             66             Clinton St & Lake St  Subscriber    Male   \n",
       "7044343             49          Dearborn St & Monroe St  Subscriber    Male   \n",
       "7044746            472          Lincoln Ave & Winona St  Subscriber    Male   \n",
       "\n",
       "         birthyear  total_docks  to_latitude  to_longitude  from_latitude  \\\n",
       "3829360        NaN         19.0    41.984037    -87.652310      41.892570   \n",
       "3829362        NaN         19.0    41.984037    -87.652310      41.892570   \n",
       "3829557        NaN         39.0    42.032562    -87.679101      41.902973   \n",
       "3829559        NaN         39.0    42.032562    -87.679101      41.902973   \n",
       "3829618        NaN         19.0    41.892278    -87.612043      41.984037   \n",
       "...            ...          ...          ...           ...            ...   \n",
       "7043076     1984.0         19.0    41.900960    -87.623777      41.795212   \n",
       "7043158     1981.0         11.0    42.048214    -87.683485      41.956057   \n",
       "7043941     1971.0         15.0    41.885637    -87.641823      41.974911   \n",
       "7044343     1946.0         15.0    41.881320    -87.629521      41.978353   \n",
       "7044746     1971.0         23.0    41.974911    -87.692503      41.885637   \n",
       "\n",
       "         from_longitude      dist_mts   revenue  \n",
       "3829360      -87.614492  10632.487864  8.156667  \n",
       "3829362      -87.614492  10632.487864  6.923333  \n",
       "3829557      -87.631280  14929.656305  8.916667  \n",
       "3829559      -87.631280  14929.656305  8.871667  \n",
       "3829618      -87.652310  10724.975426  5.456667  \n",
       "...                 ...           ...       ...  \n",
       "7043076      -87.580715  12277.862612  9.321667  \n",
       "7043158      -87.668835  10307.889895  4.388333  \n",
       "7043941      -87.692503  10770.013009  3.355000  \n",
       "7044343      -87.659753  11065.512124  5.383333  \n",
       "7044746      -87.641823  10770.013009  4.016667  \n",
       "\n",
       "[16661 rows x 19 columns]"
      ]
     },
     "execution_count": 24,
     "metadata": {},
     "output_type": "execute_result"
    }
   ],
   "source": [
    "#Selecting all those rows where distance travrsed is more than 3 kms & less than 10kms\n",
    "merge_total.loc[(merge_total['dist_mts'] > 10000)]"
   ]
  },
  {
   "cell_type": "code",
   "execution_count": 25,
   "metadata": {},
   "outputs": [
    {
     "name": "stdout",
     "output_type": "stream",
     "text": [
      "Number of Rows in dataframe with distance travelled more than 10000 :  0.0052196049879636745\n"
     ]
    }
   ],
   "source": [
    "seriesObj = merge_total.apply(lambda x: True if x['dist_mts'] > 10000 else False , axis=1)\n",
    "# Count number of True in series\n",
    "numOfRows = len(seriesObj[seriesObj == True].index)/3192004\n",
    "print('Number of Rows in dataframe with distance travelled more than 10000 : ', numOfRows)\n"
   ]
  },
  {
   "cell_type": "code",
   "execution_count": 34,
   "metadata": {},
   "outputs": [],
   "source": [
    "##As percentage of people having trips more than 10kms is less than 0.5% therefore dropping those instances from dataframe\n",
    "merge_total = merge_total.drop(merge_total[merge_total.dist_mts > 10000].index)\n"
   ]
  },
  {
   "cell_type": "code",
   "execution_count": 37,
   "metadata": {},
   "outputs": [
    {
     "name": "stdout",
     "output_type": "stream",
     "text": [
      "Number of Rows in dataframe with distance travelled more than 5000 :  0.07227058612708505\n"
     ]
    }
   ],
   "source": [
    "seriesObj = merge_total.apply(lambda x: True if x['dist_mts'] > 5000 else False , axis=1)\n",
    "# Count number of True in series\n",
    "numOfRows = len(seriesObj[seriesObj == True].index)/3192004\n",
    "print('Number of Rows in dataframe with distance travelled more than 5000 : ', numOfRows)\n"
   ]
  },
  {
   "cell_type": "code",
   "execution_count": 38,
   "metadata": {},
   "outputs": [],
   "source": [
    "##As percentage of people having trips more than 5kms is less than 7% therefore dropping those instances from dataframe\n",
    "merge_total = merge_total.drop(merge_total[merge_total.dist_mts > 5000].index)"
   ]
  },
  {
   "cell_type": "code",
   "execution_count": 39,
   "metadata": {},
   "outputs": [
    {
     "name": "stdout",
     "output_type": "stream",
     "text": [
      "Number of Rows in dataframe with distance travelled more than 3000 :  0.14237764113077553\n"
     ]
    }
   ],
   "source": [
    "seriesObj = merge_total.apply(lambda x: True if x['dist_mts'] > 3000 else False , axis=1)\n",
    "# Count number of True in series\n",
    "numOfRows = len(seriesObj[seriesObj == True].index)/3192004\n",
    "print('Number of Rows in dataframe with distance travelled more than 3000 : ', numOfRows)\n"
   ]
  },
  {
   "cell_type": "code",
   "execution_count": 40,
   "metadata": {},
   "outputs": [],
   "source": [
    "##As percentage of people having trips more than 3kms is less than 14% therefore dropping those instances from dataframe\n",
    "merge_total = merge_total.drop(merge_total[merge_total.dist_mts > 3000].index)"
   ]
  },
  {
   "cell_type": "code",
   "execution_count": 43,
   "metadata": {},
   "outputs": [
    {
     "name": "stdout",
     "output_type": "stream",
     "text": [
      "Number of Rows in dataframe with distance travelled more than 2000 :  0.16592930334673767\n"
     ]
    }
   ],
   "source": [
    "seriesObj = merge_total.apply(lambda x: True if x['dist_mts'] > 2000 else False , axis=1)\n",
    "# Count number of True in series\n",
    "numOfRows = len(seriesObj[seriesObj == True].index)/3192004\n",
    "print('Number of Rows in dataframe with distance travelled more than 2000 : ', numOfRows)\n"
   ]
  },
  {
   "cell_type": "code",
   "execution_count": 44,
   "metadata": {},
   "outputs": [],
   "source": [
    "##As percentage of people having trips more than 2kms is less than 16% therefore dropping those instances from dataframe\n",
    "merge_total = merge_total.drop(merge_total[merge_total.dist_mts > 2000].index)"
   ]
  },
  {
   "cell_type": "code",
   "execution_count": 45,
   "metadata": {},
   "outputs": [
    {
     "name": "stdout",
     "output_type": "stream",
     "text": [
      "Number of Rows in dataframe with distance tripduration is more than 5hrs :  0.0\n"
     ]
    }
   ],
   "source": [
    "seriesObj = merge_total.apply(lambda x: True if x['tripduration'] > 18000 else False , axis=1)\n",
    "# Count number of True in series\n",
    "numOfRows = len(seriesObj[seriesObj == True].index)/3192004\n",
    "print('Number of Rows in dataframe with distance tripduration is more than 5hrs : ', numOfRows)\n"
   ]
  },
  {
   "cell_type": "code",
   "execution_count": 46,
   "metadata": {},
   "outputs": [
    {
     "name": "stdout",
     "output_type": "stream",
     "text": [
      "Number of Rows in dataframe with distance tripduration is more than 3hrs :  0.0012346475756296045\n"
     ]
    }
   ],
   "source": [
    "seriesObj = merge_total.apply(lambda x: True if x['tripduration'] > 10800 else False , axis=1)\n",
    "# Count number of True in series\n",
    "numOfRows = len(seriesObj[seriesObj == True].index)/3192004\n",
    "print('Number of Rows in dataframe with distance tripduration is more than 3hrs : ', numOfRows)\n"
   ]
  },
  {
   "cell_type": "code",
   "execution_count": 48,
   "metadata": {},
   "outputs": [],
   "source": [
    "##As percentage of people having trips more than 3hrs is less than 0.1% therefore dropping those instances from dataframe\n",
    "merge_total = merge_total.drop(merge_total[merge_total.tripduration > 10800].index)"
   ]
  },
  {
   "cell_type": "code",
   "execution_count": 47,
   "metadata": {},
   "outputs": [
    {
     "name": "stdout",
     "output_type": "stream",
     "text": [
      "Number of Rows in dataframe with distance tripduration is more than 2hrs :  0.006064842024007489\n"
     ]
    }
   ],
   "source": [
    "seriesObj = merge_total.apply(lambda x: True if x['tripduration'] > 7200  else False , axis=1)\n",
    "# Count number of True in series\n",
    "numOfRows = len(seriesObj[seriesObj == True].index)/3192004\n",
    "print('Number of Rows in dataframe with distance tripduration is more than 2hrs : ', numOfRows)\n"
   ]
  },
  {
   "cell_type": "code",
   "execution_count": 49,
   "metadata": {},
   "outputs": [],
   "source": [
    "##As percentage of people having trips more than 2hrs is less than 0.6% therefore dropping those instances from dataframe\n",
    "merge_total = merge_total.drop(merge_total[merge_total.tripduration > 7200].index)"
   ]
  },
  {
   "cell_type": "code",
   "execution_count": 62,
   "metadata": {},
   "outputs": [
    {
     "data": {
      "text/plain": [
       "(1881375, 19)"
      ]
     },
     "execution_count": 62,
     "metadata": {},
     "output_type": "execute_result"
    }
   ],
   "source": [
    "merge_total.shape"
   ]
  },
  {
   "cell_type": "code",
   "execution_count": 56,
   "metadata": {},
   "outputs": [
    {
     "name": "stdout",
     "output_type": "stream",
     "text": [
      "Number of Rows in dataframe with distance tripduration is more than 1 hrs :  0.02815415020987893\n"
     ]
    }
   ],
   "source": [
    "seriesObj = merge_total.apply(lambda x: True if x['tripduration'] > 3600  else False , axis=1)\n",
    "# Count number of True in series\n",
    "numOfRows = len(seriesObj[seriesObj == True].index)/1935878\n",
    "print('Number of Rows in dataframe with distance tripduration is more than 1 hrs : ', numOfRows)\n"
   ]
  },
  {
   "cell_type": "code",
   "execution_count": 60,
   "metadata": {},
   "outputs": [],
   "source": [
    "##As percentage of people having trips more than 1hrs is less than 2% therefore dropping those instances from dataframe\n",
    "merge_total = merge_total.drop(merge_total[merge_total.tripduration > 3600].index)"
   ]
  },
  {
   "cell_type": "code",
   "execution_count": 57,
   "metadata": {},
   "outputs": [
    {
     "name": "stdout",
     "output_type": "stream",
     "text": [
      "Number of Rows in dataframe with distance tripduration is more than 1/2 hrs :  0.07547118155173002\n"
     ]
    }
   ],
   "source": [
    "seriesObj = merge_total.apply(lambda x: True if x['tripduration'] > 1800 else False , axis=1)\n",
    "# Count number of True in series\n",
    "numOfRows = len(seriesObj[seriesObj == True].index)/1935878\n",
    "print('Number of Rows in dataframe with distance tripduration is more than 1/2 hrs : ', numOfRows)\n"
   ]
  },
  {
   "cell_type": "code",
   "execution_count": 58,
   "metadata": {},
   "outputs": [
    {
     "name": "stdout",
     "output_type": "stream",
     "text": [
      "Number of Rows in dataframe with distance tripduration is more than 1/2 hrs :  0.1643383519002747\n"
     ]
    }
   ],
   "source": [
    "seriesObj = merge_total.apply(lambda x: True if x['tripduration'] > 900 else False , axis=1)\n",
    "# Count number of True in series\n",
    "numOfRows = len(seriesObj[seriesObj == True].index)/1935878\n",
    "print('Number of Rows in dataframe with distance tripduration is more than 1/2 hrs : ', numOfRows)\n"
   ]
  },
  {
   "cell_type": "code",
   "execution_count": 59,
   "metadata": {},
   "outputs": [
    {
     "name": "stdout",
     "output_type": "stream",
     "text": [
      "Number of Rows in dataframe with distance tripduration is more than 1/2 hrs :  0.5254757789488801\n"
     ]
    }
   ],
   "source": [
    "seriesObj = merge_total.apply(lambda x: True if x['tripduration'] > 450 else False , axis=1)\n",
    "# Count number of True in series\n",
    "numOfRows = len(seriesObj[seriesObj == True].index)/1935878\n",
    "print('Number of Rows in dataframe with distance tripduration is more than 1/2 hrs : ', numOfRows)\n"
   ]
  },
  {
   "cell_type": "code",
   "execution_count": 61,
   "metadata": {},
   "outputs": [
    {
     "data": {
      "text/html": [
       "<div>\n",
       "<style scoped>\n",
       "    .dataframe tbody tr th:only-of-type {\n",
       "        vertical-align: middle;\n",
       "    }\n",
       "\n",
       "    .dataframe tbody tr th {\n",
       "        vertical-align: top;\n",
       "    }\n",
       "\n",
       "    .dataframe thead th {\n",
       "        text-align: right;\n",
       "    }\n",
       "</style>\n",
       "<table border=\"1\" class=\"dataframe\">\n",
       "  <thead>\n",
       "    <tr style=\"text-align: right;\">\n",
       "      <th></th>\n",
       "      <th>trip_id</th>\n",
       "      <th>start_time</th>\n",
       "      <th>end_time</th>\n",
       "      <th>bikeid</th>\n",
       "      <th>tripduration</th>\n",
       "      <th>from_station_id</th>\n",
       "      <th>from_station_name</th>\n",
       "      <th>to_station_id</th>\n",
       "      <th>to_station_name</th>\n",
       "      <th>usertype</th>\n",
       "      <th>gender</th>\n",
       "      <th>birthyear</th>\n",
       "      <th>total_docks</th>\n",
       "      <th>to_latitude</th>\n",
       "      <th>to_longitude</th>\n",
       "      <th>from_latitude</th>\n",
       "      <th>from_longitude</th>\n",
       "      <th>dist_mts</th>\n",
       "      <th>revenue</th>\n",
       "    </tr>\n",
       "  </thead>\n",
       "  <tbody>\n",
       "    <tr>\n",
       "      <td>4105773</td>\n",
       "      <td>18329229</td>\n",
       "      <td>2018-05-06 18:33:16</td>\n",
       "      <td>2018-05-06 19:33:16</td>\n",
       "      <td>6343</td>\n",
       "      <td>3600.0</td>\n",
       "      <td>26</td>\n",
       "      <td>McClurg Ct &amp; Illinois St</td>\n",
       "      <td>284</td>\n",
       "      <td>Michigan Ave &amp; Jackson Blvd</td>\n",
       "      <td>Customer</td>\n",
       "      <td>NaN</td>\n",
       "      <td>NaN</td>\n",
       "      <td>31.0</td>\n",
       "      <td>41.877850</td>\n",
       "      <td>-87.624080</td>\n",
       "      <td>41.890359</td>\n",
       "      <td>-87.617532</td>\n",
       "      <td>1491.904571</td>\n",
       "      <td>6.0</td>\n",
       "    </tr>\n",
       "    <tr>\n",
       "      <td>5862487</td>\n",
       "      <td>20362847</td>\n",
       "      <td>2018-08-25 13:22:16</td>\n",
       "      <td>2018-08-25 14:22:16</td>\n",
       "      <td>220</td>\n",
       "      <td>3600.0</td>\n",
       "      <td>76</td>\n",
       "      <td>Lake Shore Dr &amp; Monroe St</td>\n",
       "      <td>76</td>\n",
       "      <td>Lake Shore Dr &amp; Monroe St</td>\n",
       "      <td>Customer</td>\n",
       "      <td>NaN</td>\n",
       "      <td>NaN</td>\n",
       "      <td>39.0</td>\n",
       "      <td>41.880958</td>\n",
       "      <td>-87.616743</td>\n",
       "      <td>41.880958</td>\n",
       "      <td>-87.616743</td>\n",
       "      <td>0.000000</td>\n",
       "      <td>6.0</td>\n",
       "    </tr>\n",
       "    <tr>\n",
       "      <td>4458541</td>\n",
       "      <td>18741387</td>\n",
       "      <td>2018-06-02 21:32:20</td>\n",
       "      <td>2018-06-02 22:32:20</td>\n",
       "      <td>946</td>\n",
       "      <td>3600.0</td>\n",
       "      <td>6</td>\n",
       "      <td>Dusable Harbor</td>\n",
       "      <td>76</td>\n",
       "      <td>Lake Shore Dr &amp; Monroe St</td>\n",
       "      <td>Customer</td>\n",
       "      <td>NaN</td>\n",
       "      <td>NaN</td>\n",
       "      <td>39.0</td>\n",
       "      <td>41.880958</td>\n",
       "      <td>-87.616743</td>\n",
       "      <td>41.886976</td>\n",
       "      <td>-87.612813</td>\n",
       "      <td>743.771034</td>\n",
       "      <td>6.0</td>\n",
       "    </tr>\n",
       "    <tr>\n",
       "      <td>5879712</td>\n",
       "      <td>20382069</td>\n",
       "      <td>2018-08-26 14:38:22</td>\n",
       "      <td>2018-08-26 15:38:22</td>\n",
       "      <td>2394</td>\n",
       "      <td>3600.0</td>\n",
       "      <td>177</td>\n",
       "      <td>Theater on the Lake</td>\n",
       "      <td>177</td>\n",
       "      <td>Theater on the Lake</td>\n",
       "      <td>Customer</td>\n",
       "      <td>NaN</td>\n",
       "      <td>NaN</td>\n",
       "      <td>31.0</td>\n",
       "      <td>41.926277</td>\n",
       "      <td>-87.630834</td>\n",
       "      <td>41.926277</td>\n",
       "      <td>-87.630834</td>\n",
       "      <td>0.000000</td>\n",
       "      <td>6.0</td>\n",
       "    </tr>\n",
       "    <tr>\n",
       "      <td>5227585</td>\n",
       "      <td>19634726</td>\n",
       "      <td>2018-07-20 17:05:04</td>\n",
       "      <td>2018-07-20 18:05:04</td>\n",
       "      <td>3119</td>\n",
       "      <td>3600.0</td>\n",
       "      <td>90</td>\n",
       "      <td>Millennium Park</td>\n",
       "      <td>145</td>\n",
       "      <td>Mies van der Rohe Way &amp; Chestnut St</td>\n",
       "      <td>Customer</td>\n",
       "      <td>NaN</td>\n",
       "      <td>NaN</td>\n",
       "      <td>47.0</td>\n",
       "      <td>41.898587</td>\n",
       "      <td>-87.621915</td>\n",
       "      <td>41.881032</td>\n",
       "      <td>-87.624084</td>\n",
       "      <td>1958.141120</td>\n",
       "      <td>6.0</td>\n",
       "    </tr>\n",
       "  </tbody>\n",
       "</table>\n",
       "</div>"
      ],
      "text/plain": [
       "          trip_id           start_time             end_time  bikeid  \\\n",
       "4105773  18329229  2018-05-06 18:33:16  2018-05-06 19:33:16    6343   \n",
       "5862487  20362847  2018-08-25 13:22:16  2018-08-25 14:22:16     220   \n",
       "4458541  18741387  2018-06-02 21:32:20  2018-06-02 22:32:20     946   \n",
       "5879712  20382069  2018-08-26 14:38:22  2018-08-26 15:38:22    2394   \n",
       "5227585  19634726  2018-07-20 17:05:04  2018-07-20 18:05:04    3119   \n",
       "\n",
       "         tripduration  from_station_id          from_station_name  \\\n",
       "4105773        3600.0               26   McClurg Ct & Illinois St   \n",
       "5862487        3600.0               76  Lake Shore Dr & Monroe St   \n",
       "4458541        3600.0                6             Dusable Harbor   \n",
       "5879712        3600.0              177        Theater on the Lake   \n",
       "5227585        3600.0               90            Millennium Park   \n",
       "\n",
       "         to_station_id                      to_station_name  usertype gender  \\\n",
       "4105773            284          Michigan Ave & Jackson Blvd  Customer    NaN   \n",
       "5862487             76            Lake Shore Dr & Monroe St  Customer    NaN   \n",
       "4458541             76            Lake Shore Dr & Monroe St  Customer    NaN   \n",
       "5879712            177                  Theater on the Lake  Customer    NaN   \n",
       "5227585            145  Mies van der Rohe Way & Chestnut St  Customer    NaN   \n",
       "\n",
       "         birthyear  total_docks  to_latitude  to_longitude  from_latitude  \\\n",
       "4105773        NaN         31.0    41.877850    -87.624080      41.890359   \n",
       "5862487        NaN         39.0    41.880958    -87.616743      41.880958   \n",
       "4458541        NaN         39.0    41.880958    -87.616743      41.886976   \n",
       "5879712        NaN         31.0    41.926277    -87.630834      41.926277   \n",
       "5227585        NaN         47.0    41.898587    -87.621915      41.881032   \n",
       "\n",
       "         from_longitude     dist_mts  revenue  \n",
       "4105773      -87.617532  1491.904571      6.0  \n",
       "5862487      -87.616743     0.000000      6.0  \n",
       "4458541      -87.612813   743.771034      6.0  \n",
       "5879712      -87.630834     0.000000      6.0  \n",
       "5227585      -87.624084  1958.141120      6.0  "
      ]
     },
     "execution_count": 61,
     "metadata": {},
     "output_type": "execute_result"
    }
   ],
   "source": [
    "merge_total.sort_values(by ='revenue').tail()"
   ]
  },
  {
   "cell_type": "code",
   "execution_count": 65,
   "metadata": {},
   "outputs": [],
   "source": [
    "from sklearn.linear_model import LinearRegression\n",
    "from sklearn.ensemble import RandomForestRegressor\n",
    "from sklearn.neighbors import KNeighborsRegressor\n",
    "from sklearn.svm import SVC\n",
    "\n",
    "from sklearn.model_selection import GridSearchCV\n"
   ]
  },
  {
   "cell_type": "markdown",
   "metadata": {},
   "source": [
    "    Aggregate flows for spatial sankey map"
   ]
  },
  {
   "cell_type": "code",
   "execution_count": 67,
   "metadata": {},
   "outputs": [],
   "source": [
    "merge_total['trips'] = 1"
   ]
  },
  {
   "cell_type": "code",
   "execution_count": 68,
   "metadata": {},
   "outputs": [],
   "source": [
    "flows = merge_total.groupby(['from_station_id', 'to_station_id'])['trips'].sum().reset_index()"
   ]
  },
  {
   "cell_type": "code",
   "execution_count": 69,
   "metadata": {},
   "outputs": [
    {
     "data": {
      "text/plain": [
       "(21176, 3)"
      ]
     },
     "execution_count": 69,
     "metadata": {},
     "output_type": "execute_result"
    }
   ],
   "source": [
    "flows.shape"
   ]
  },
  {
   "cell_type": "code",
   "execution_count": 70,
   "metadata": {},
   "outputs": [
    {
     "data": {
      "text/html": [
       "<div>\n",
       "<style scoped>\n",
       "    .dataframe tbody tr th:only-of-type {\n",
       "        vertical-align: middle;\n",
       "    }\n",
       "\n",
       "    .dataframe tbody tr th {\n",
       "        vertical-align: top;\n",
       "    }\n",
       "\n",
       "    .dataframe thead th {\n",
       "        text-align: right;\n",
       "    }\n",
       "</style>\n",
       "<table border=\"1\" class=\"dataframe\">\n",
       "  <thead>\n",
       "    <tr style=\"text-align: right;\">\n",
       "      <th></th>\n",
       "      <th>from_station_id</th>\n",
       "      <th>to_station_id</th>\n",
       "      <th>trips</th>\n",
       "      <th>target</th>\n",
       "      <th>source</th>\n",
       "      <th>flow</th>\n",
       "    </tr>\n",
       "  </thead>\n",
       "  <tbody>\n",
       "    <tr>\n",
       "      <td>0</td>\n",
       "      <td>2</td>\n",
       "      <td>2</td>\n",
       "      <td>1044</td>\n",
       "      <td>s2</td>\n",
       "      <td>s2</td>\n",
       "      <td>1044</td>\n",
       "    </tr>\n",
       "    <tr>\n",
       "      <td>1</td>\n",
       "      <td>2</td>\n",
       "      <td>3</td>\n",
       "      <td>342</td>\n",
       "      <td>s3</td>\n",
       "      <td>s2</td>\n",
       "      <td>342</td>\n",
       "    </tr>\n",
       "    <tr>\n",
       "      <td>2</td>\n",
       "      <td>2</td>\n",
       "      <td>5</td>\n",
       "      <td>25</td>\n",
       "      <td>s5</td>\n",
       "      <td>s2</td>\n",
       "      <td>25</td>\n",
       "    </tr>\n",
       "    <tr>\n",
       "      <td>3</td>\n",
       "      <td>2</td>\n",
       "      <td>6</td>\n",
       "      <td>128</td>\n",
       "      <td>s6</td>\n",
       "      <td>s2</td>\n",
       "      <td>128</td>\n",
       "    </tr>\n",
       "    <tr>\n",
       "      <td>4</td>\n",
       "      <td>2</td>\n",
       "      <td>7</td>\n",
       "      <td>24</td>\n",
       "      <td>s7</td>\n",
       "      <td>s2</td>\n",
       "      <td>24</td>\n",
       "    </tr>\n",
       "  </tbody>\n",
       "</table>\n",
       "</div>"
      ],
      "text/plain": [
       "   from_station_id  to_station_id  trips target source  flow\n",
       "0                2              2   1044     s2     s2  1044\n",
       "1                2              3    342     s3     s2   342\n",
       "2                2              5     25     s5     s2    25\n",
       "3                2              6    128     s6     s2   128\n",
       "4                2              7     24     s7     s2    24"
      ]
     },
     "execution_count": 70,
     "metadata": {},
     "output_type": "execute_result"
    }
   ],
   "source": [
    "# target,source,flow\n",
    "flows['target'] = flows.to_station_id.map(lambda s: 's' + str(s))\n",
    "flows['source'] = flows.from_station_id.map(lambda s: 's' + str(s))\n",
    "flows['flow'] = flows.trips\n",
    "flows.head()"
   ]
  },
  {
   "cell_type": "code",
   "execution_count": 71,
   "metadata": {},
   "outputs": [
    {
     "name": "stdout",
     "output_type": "stream",
     "text": [
      "(101, 3)\n"
     ]
    },
    {
     "data": {
      "text/html": [
       "<div>\n",
       "<style scoped>\n",
       "    .dataframe tbody tr th:only-of-type {\n",
       "        vertical-align: middle;\n",
       "    }\n",
       "\n",
       "    .dataframe tbody tr th {\n",
       "        vertical-align: top;\n",
       "    }\n",
       "\n",
       "    .dataframe thead th {\n",
       "        text-align: right;\n",
       "    }\n",
       "</style>\n",
       "<table border=\"1\" class=\"dataframe\">\n",
       "  <thead>\n",
       "    <tr style=\"text-align: right;\">\n",
       "      <th></th>\n",
       "      <th>target</th>\n",
       "      <th>source</th>\n",
       "      <th>flow</th>\n",
       "    </tr>\n",
       "  </thead>\n",
       "  <tbody>\n",
       "    <tr>\n",
       "      <td>0</td>\n",
       "      <td>s2</td>\n",
       "      <td>s2</td>\n",
       "      <td>1044</td>\n",
       "    </tr>\n",
       "    <tr>\n",
       "      <td>72</td>\n",
       "      <td>s3</td>\n",
       "      <td>s3</td>\n",
       "      <td>1225</td>\n",
       "    </tr>\n",
       "    <tr>\n",
       "      <td>87</td>\n",
       "      <td>s76</td>\n",
       "      <td>s3</td>\n",
       "      <td>1426</td>\n",
       "    </tr>\n",
       "    <tr>\n",
       "      <td>89</td>\n",
       "      <td>s90</td>\n",
       "      <td>s3</td>\n",
       "      <td>1668</td>\n",
       "    </tr>\n",
       "    <tr>\n",
       "      <td>214</td>\n",
       "      <td>s6</td>\n",
       "      <td>s6</td>\n",
       "      <td>1066</td>\n",
       "    </tr>\n",
       "  </tbody>\n",
       "</table>\n",
       "</div>"
      ],
      "text/plain": [
       "    target source  flow\n",
       "0       s2     s2  1044\n",
       "72      s3     s3  1225\n",
       "87     s76     s3  1426\n",
       "89     s90     s3  1668\n",
       "214     s6     s6  1066"
      ]
     },
     "execution_count": 71,
     "metadata": {},
     "output_type": "execute_result"
    }
   ],
   "source": [
    "flows_concise = flows.query('trips >= 1000')[['target', 'source', 'flow']]\n",
    "print(flows_concise.shape)\n",
    "flows_concise.head()"
   ]
  },
  {
   "cell_type": "code",
   "execution_count": 73,
   "metadata": {},
   "outputs": [
    {
     "data": {
      "text/plain": [
       "'2018-12-31 23:55:04'"
      ]
     },
     "execution_count": 73,
     "metadata": {},
     "output_type": "execute_result"
    }
   ],
   "source": [
    "LAST_TRIP = merge_total['start_time'].max()\n",
    "LAST_TRIP"
   ]
  },
  {
   "cell_type": "code",
   "execution_count": 74,
   "metadata": {},
   "outputs": [
    {
     "data": {
      "text/html": [
       "<div>\n",
       "<style scoped>\n",
       "    .dataframe tbody tr th:only-of-type {\n",
       "        vertical-align: middle;\n",
       "    }\n",
       "\n",
       "    .dataframe tbody tr th {\n",
       "        vertical-align: top;\n",
       "    }\n",
       "\n",
       "    .dataframe thead th {\n",
       "        text-align: right;\n",
       "    }\n",
       "</style>\n",
       "<table border=\"1\" class=\"dataframe\">\n",
       "  <thead>\n",
       "    <tr style=\"text-align: right;\">\n",
       "      <th></th>\n",
       "      <th>ID</th>\n",
       "      <th>Station Name</th>\n",
       "      <th>Total Docks</th>\n",
       "      <th>Docks in Service</th>\n",
       "      <th>Status</th>\n",
       "      <th>Latitude</th>\n",
       "      <th>Longitude</th>\n",
       "      <th>Location</th>\n",
       "    </tr>\n",
       "  </thead>\n",
       "  <tbody>\n",
       "    <tr>\n",
       "      <td>0</td>\n",
       "      <td>675</td>\n",
       "      <td>HQ QR</td>\n",
       "      <td>7</td>\n",
       "      <td>7</td>\n",
       "      <td>In Service</td>\n",
       "      <td>41.889914</td>\n",
       "      <td>-87.680343</td>\n",
       "      <td>(41.88991358344108, -87.68034316599368)</td>\n",
       "    </tr>\n",
       "    <tr>\n",
       "      <td>1</td>\n",
       "      <td>418</td>\n",
       "      <td>Ellis Ave &amp; 53rd St</td>\n",
       "      <td>11</td>\n",
       "      <td>11</td>\n",
       "      <td>In Service</td>\n",
       "      <td>41.799336</td>\n",
       "      <td>-87.600958</td>\n",
       "      <td>(41.79933626261, -87.6009581145)</td>\n",
       "    </tr>\n",
       "    <tr>\n",
       "      <td>2</td>\n",
       "      <td>249</td>\n",
       "      <td>Montrose Harbor</td>\n",
       "      <td>31</td>\n",
       "      <td>31</td>\n",
       "      <td>In Service</td>\n",
       "      <td>41.963982</td>\n",
       "      <td>-87.638181</td>\n",
       "      <td>(41.963982, -87.638181)</td>\n",
       "    </tr>\n",
       "    <tr>\n",
       "      <td>3</td>\n",
       "      <td>322</td>\n",
       "      <td>Kimbark Ave &amp; 53rd St</td>\n",
       "      <td>19</td>\n",
       "      <td>19</td>\n",
       "      <td>In Service</td>\n",
       "      <td>41.799568</td>\n",
       "      <td>-87.594747</td>\n",
       "      <td>(41.799568, -87.594747)</td>\n",
       "    </tr>\n",
       "    <tr>\n",
       "      <td>4</td>\n",
       "      <td>168</td>\n",
       "      <td>Michigan Ave &amp; 14th St</td>\n",
       "      <td>19</td>\n",
       "      <td>19</td>\n",
       "      <td>In Service</td>\n",
       "      <td>41.864059</td>\n",
       "      <td>-87.623727</td>\n",
       "      <td>(41.864059, -87.623727)</td>\n",
       "    </tr>\n",
       "  </tbody>\n",
       "</table>\n",
       "</div>"
      ],
      "text/plain": [
       "    ID            Station Name  Total Docks  Docks in Service      Status  \\\n",
       "0  675                   HQ QR            7                 7  In Service   \n",
       "1  418     Ellis Ave & 53rd St           11                11  In Service   \n",
       "2  249         Montrose Harbor           31                31  In Service   \n",
       "3  322   Kimbark Ave & 53rd St           19                19  In Service   \n",
       "4  168  Michigan Ave & 14th St           19                19  In Service   \n",
       "\n",
       "    Latitude  Longitude                                 Location  \n",
       "0  41.889914 -87.680343  (41.88991358344108, -87.68034316599368)  \n",
       "1  41.799336 -87.600958         (41.79933626261, -87.6009581145)  \n",
       "2  41.963982 -87.638181                  (41.963982, -87.638181)  \n",
       "3  41.799568 -87.594747                  (41.799568, -87.594747)  \n",
       "4  41.864059 -87.623727                  (41.864059, -87.623727)  "
      ]
     },
     "execution_count": 74,
     "metadata": {},
     "output_type": "execute_result"
    }
   ],
   "source": [
    "station_data.head()"
   ]
  },
  {
   "cell_type": "code",
   "execution_count": null,
   "metadata": {},
   "outputs": [],
   "source": []
  }
 ],
 "metadata": {
  "kernelspec": {
   "display_name": "Python 3",
   "language": "python",
   "name": "python3"
  },
  "language_info": {
   "codemirror_mode": {
    "name": "ipython",
    "version": 3
   },
   "file_extension": ".py",
   "mimetype": "text/x-python",
   "name": "python",
   "nbconvert_exporter": "python",
   "pygments_lexer": "ipython3",
   "version": "3.7.4"
  }
 },
 "nbformat": 4,
 "nbformat_minor": 2
}
